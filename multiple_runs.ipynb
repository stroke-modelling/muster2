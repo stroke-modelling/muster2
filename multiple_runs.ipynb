{
 "cells": [
  {
   "cell_type": "markdown",
   "metadata": {},
   "source": [
    "# MSU Multiple Scenarios"
   ]
  },
  {
   "cell_type": "code",
   "execution_count": 1,
   "metadata": {},
   "outputs": [],
   "source": [
    "import numpy as np\n",
    "import pandas as pd\n",
    "\n",
    "from classes.geography_processing import Geoprocessing\n",
    "from classes.scenario_runner import Scenario_runner\n",
    "\n",
    "# Hide all warnings\n",
    "import warnings\n",
    "warnings.filterwarnings(\"ignore\")"
   ]
  },
  {
   "cell_type": "code",
   "execution_count": null,
   "metadata": {},
   "outputs": [],
   "source": []
  },
  {
   "cell_type": "code",
   "execution_count": 2,
   "metadata": {},
   "outputs": [
    {
     "name": "stdout",
     "output_type": "stream",
     "text": [
      "Running scenario 28/46656. Time remaining: 214 minutes\r"
     ]
    },
    {
     "ename": "KeyboardInterrupt",
     "evalue": "",
     "output_type": "error",
     "traceback": [
      "\u001b[0;31m---------------------------------------------------------------------------\u001b[0m",
      "\u001b[0;31mKeyboardInterrupt\u001b[0m                         Traceback (most recent call last)",
      "Cell \u001b[0;32mIn[2], line 20\u001b[0m\n\u001b[1;32m     18\u001b[0m \u001b[38;5;66;03m# Set up scenario runner\u001b[39;00m\n\u001b[1;32m     19\u001b[0m runner \u001b[38;5;241m=\u001b[39m Scenario_runner(scenarios, prefix\u001b[38;5;241m=\u001b[39m\u001b[38;5;124m'\u001b[39m\u001b[38;5;124mtest_3\u001b[39m\u001b[38;5;124m'\u001b[39m)\n\u001b[0;32m---> 20\u001b[0m \u001b[43mrunner\u001b[49m\u001b[38;5;241;43m.\u001b[39;49m\u001b[43mrun\u001b[49m\u001b[43m(\u001b[49m\u001b[43m)\u001b[49m\n",
      "File \u001b[0;32m~/OneDrive/01_Git_Current/2_Optimist_Muster/muster_2_deterministic/classes/scenario_runner.py:57\u001b[0m, in \u001b[0;36mScenario_runner.run\u001b[0;34m(self)\u001b[0m\n\u001b[1;32m     53\u001b[0m \u001b[38;5;66;03m# Set up model\u001b[39;00m\n\u001b[1;32m     54\u001b[0m model \u001b[38;5;241m=\u001b[39m Model(\n\u001b[1;32m     55\u001b[0m     scenario\u001b[38;5;241m=\u001b[39mScenario(scenario_to_run),\n\u001b[1;32m     56\u001b[0m     geodata\u001b[38;5;241m=\u001b[39mpd\u001b[38;5;241m.\u001b[39mread_csv(\u001b[38;5;124m'\u001b[39m\u001b[38;5;124mprocessed_data/processed_data.csv\u001b[39m\u001b[38;5;124m'\u001b[39m))\n\u001b[0;32m---> 57\u001b[0m \u001b[43mmodel\u001b[49m\u001b[38;5;241;43m.\u001b[39;49m\u001b[43mrun\u001b[49m\u001b[43m(\u001b[49m\u001b[43m)\u001b[49m\n\u001b[1;32m     59\u001b[0m \u001b[38;5;66;03m# Store results\u001b[39;00m\n\u001b[1;32m     60\u001b[0m \u001b[38;5;28mself\u001b[39m\u001b[38;5;241m.\u001b[39mresults[index] \u001b[38;5;241m=\u001b[39m model\u001b[38;5;241m.\u001b[39msummary_results[\u001b[38;5;124m'\u001b[39m\u001b[38;5;124mmean\u001b[39m\u001b[38;5;124m'\u001b[39m]\n",
      "File \u001b[0;32m~/OneDrive/01_Git_Current/2_Optimist_Muster/muster_2_deterministic/classes/model.py:52\u001b[0m, in \u001b[0;36mModel.run\u001b[0;34m(self)\u001b[0m\n\u001b[1;32m     49\u001b[0m \u001b[38;5;28mself\u001b[39m\u001b[38;5;241m.\u001b[39mfull_results \u001b[38;5;241m=\u001b[39m \u001b[38;5;28mself\u001b[39m\u001b[38;5;241m.\u001b[39mgeodata\u001b[38;5;241m.\u001b[39mcopy(deep\u001b[38;5;241m=\u001b[39m\u001b[38;5;28;01mTrue\u001b[39;00m)\n\u001b[1;32m     51\u001b[0m \u001b[38;5;28mself\u001b[39m\u001b[38;5;241m.\u001b[39madd_drip_ship()\n\u001b[0;32m---> 52\u001b[0m \u001b[38;5;28;43mself\u001b[39;49m\u001b[38;5;241;43m.\u001b[39;49m\u001b[43madd_mothership\u001b[49m\u001b[43m(\u001b[49m\u001b[43m)\u001b[49m\n\u001b[1;32m     53\u001b[0m \u001b[38;5;28mself\u001b[39m\u001b[38;5;241m.\u001b[39madd_msu()\n\u001b[1;32m     55\u001b[0m \u001b[38;5;66;03m# Reindex on LSOA\u001b[39;00m\n",
      "File \u001b[0;32m~/OneDrive/01_Git_Current/2_Optimist_Muster/muster_2_deterministic/classes/model.py:199\u001b[0m, in \u001b[0;36mModel.add_mothership\u001b[0;34m(self)\u001b[0m\n\u001b[1;32m    196\u001b[0m outcome_inputs_df[\u001b[38;5;124m'\u001b[39m\u001b[38;5;124mivt_chosen_bool\u001b[39m\u001b[38;5;124m'\u001b[39m] \u001b[38;5;241m=\u001b[39m \u001b[38;5;241m1\u001b[39m\n\u001b[1;32m    197\u001b[0m continuous_outcome\u001b[38;5;241m.\u001b[39massign_patients_to_trial(outcome_inputs_df)\n\u001b[1;32m    198\u001b[0m patient_data_dict, outcomes_by_stroke_type, full_cohort_outcomes \u001b[38;5;241m=\u001b[39m (\n\u001b[0;32m--> 199\u001b[0m     \u001b[43mcontinuous_outcome\u001b[49m\u001b[38;5;241;43m.\u001b[39;49m\u001b[43mcalculate_outcomes\u001b[49m\u001b[43m(\u001b[49m\u001b[43m)\u001b[49m)\n\u001b[1;32m    200\u001b[0m \u001b[38;5;28mself\u001b[39m\u001b[38;5;241m.\u001b[39mfull_results[\u001b[38;5;124m'\u001b[39m\u001b[38;5;124mnlvo_mothership_ivt_mrs_0-2\u001b[39m\u001b[38;5;124m'\u001b[39m] \u001b[38;5;241m=\u001b[39m \\\n\u001b[1;32m    201\u001b[0m     outcomes_by_stroke_type[\u001b[38;5;124m'\u001b[39m\u001b[38;5;124mnlvo_ivt_each_patient_mrs_dist_post_stroke\u001b[39m\u001b[38;5;124m'\u001b[39m][:,\u001b[38;5;241m2\u001b[39m]\n\u001b[1;32m    202\u001b[0m \u001b[38;5;28mself\u001b[39m\u001b[38;5;241m.\u001b[39mfull_results[\u001b[38;5;124m'\u001b[39m\u001b[38;5;124mnlvo_mothership_ivt_mrs_shift\u001b[39m\u001b[38;5;124m'\u001b[39m] \u001b[38;5;241m=\u001b[39m \\\n\u001b[1;32m    203\u001b[0m     outcomes_by_stroke_type[\u001b[38;5;124m'\u001b[39m\u001b[38;5;124mnlvo_ivt_each_patient_mrs_shift\u001b[39m\u001b[38;5;124m'\u001b[39m]        \n",
      "File \u001b[0;32m~/miniconda3/envs/muster/lib/python3.10/site-packages/stroke_outcome/continuous_outcome.py:511\u001b[0m, in \u001b[0;36mContinuous_outcome.calculate_outcomes\u001b[0;34m(self)\u001b[0m\n\u001b[1;32m    507\u001b[0m \u001b[38;5;66;03m# ... and these outcome dictionaries are specific to this\u001b[39;00m\n\u001b[1;32m    508\u001b[0m \u001b[38;5;66;03m# measure of change of outcome:\u001b[39;00m\n\u001b[1;32m    509\u001b[0m lvo_ivt_outcomes \u001b[38;5;241m=\u001b[39m \u001b[38;5;28mself\u001b[39m\u001b[38;5;241m.\u001b[39mcalculate_outcomes_dict_for_lvo_ivt(\n\u001b[1;32m    510\u001b[0m     post_stroke_probs_lvo_ivt)\n\u001b[0;32m--> 511\u001b[0m lvo_mt_outcomes \u001b[38;5;241m=\u001b[39m \u001b[38;5;28;43mself\u001b[39;49m\u001b[38;5;241;43m.\u001b[39;49m\u001b[43mcalculate_outcomes_dict_for_lvo_mt\u001b[49m\u001b[43m(\u001b[49m\n\u001b[1;32m    512\u001b[0m \u001b[43m    \u001b[49m\u001b[43mpost_stroke_probs_lvo_mt\u001b[49m\u001b[43m)\u001b[49m\n\u001b[1;32m    513\u001b[0m nlvo_ivt_outcomes \u001b[38;5;241m=\u001b[39m \u001b[38;5;28mself\u001b[39m\u001b[38;5;241m.\u001b[39mcalculate_outcomes_dict_for_nlvo_ivt(\n\u001b[1;32m    514\u001b[0m     post_stroke_probs_nlvo_ivt)\n\u001b[1;32m    516\u001b[0m \u001b[38;5;66;03m# Gather results into one dictionary:\u001b[39;00m\n",
      "File \u001b[0;32m~/miniconda3/envs/muster/lib/python3.10/site-packages/stroke_outcome/continuous_outcome.py:592\u001b[0m, in \u001b[0;36mContinuous_outcome.calculate_outcomes_dict_for_lvo_mt\u001b[0;34m(self, post_stroke_probs)\u001b[0m\n\u001b[1;32m    587\u001b[0m     \u001b[38;5;28;01mraise\u001b[39;00m \u001b[38;5;167;01mKeyError\u001b[39;00m(\n\u001b[1;32m    588\u001b[0m         \u001b[38;5;124m'\u001b[39m\u001b[38;5;124mNeed to create LVO mRS distributions first.\u001b[39m\u001b[38;5;124m'\u001b[39m)\n\u001b[1;32m    590\u001b[0m treatment_chosen_bool \u001b[38;5;241m=\u001b[39m \u001b[38;5;28mself\u001b[39m\u001b[38;5;241m.\u001b[39mtrial[\u001b[38;5;124m'\u001b[39m\u001b[38;5;124mmt_chosen_bool\u001b[39m\u001b[38;5;124m'\u001b[39m]\u001b[38;5;241m.\u001b[39mdata \u001b[38;5;241m==\u001b[39m \u001b[38;5;241m1\u001b[39m\n\u001b[0;32m--> 592\u001b[0m outcomes_dict \u001b[38;5;241m=\u001b[39m \u001b[38;5;28;43mself\u001b[39;49m\u001b[38;5;241;43m.\u001b[39;49m\u001b[43mcalculate_outcomes_dict\u001b[49m\u001b[43m(\u001b[49m\n\u001b[1;32m    593\u001b[0m \u001b[43m    \u001b[49m\u001b[43mpost_stroke_probs\u001b[49m\u001b[43m,\u001b[49m\n\u001b[1;32m    594\u001b[0m \u001b[43m    \u001b[49m\u001b[43mnot_treated_probs\u001b[49m\u001b[43m,\u001b[49m\n\u001b[1;32m    595\u001b[0m \u001b[43m    \u001b[49m\u001b[43mno_effect_probs\u001b[49m\u001b[43m,\u001b[49m\n\u001b[1;32m    596\u001b[0m \u001b[43m    \u001b[49m\u001b[43mtreatment_chosen_bool\u001b[49m\n\u001b[1;32m    597\u001b[0m \u001b[43m    \u001b[49m\u001b[43m)\u001b[49m\n\u001b[1;32m    598\u001b[0m \u001b[38;5;28;01mreturn\u001b[39;00m outcomes_dict\n",
      "File \u001b[0;32m~/miniconda3/envs/muster/lib/python3.10/site-packages/stroke_outcome/continuous_outcome.py:671\u001b[0m, in \u001b[0;36mContinuous_outcome.calculate_outcomes_dict\u001b[0;34m(self, post_stroke_probs, not_treated_probs, no_effect_probs, treatment_chosen_bool)\u001b[0m\n\u001b[1;32m    632\u001b[0m \u001b[38;5;250m\u001b[39m\u001b[38;5;124;03m\"\"\"\u001b[39;00m\n\u001b[1;32m    633\u001b[0m \u001b[38;5;124;03mCalculate continuous outcomes dictionaries.\u001b[39;00m\n\u001b[1;32m    634\u001b[0m \n\u001b[0;32m   (...)\u001b[0m\n\u001b[1;32m    667\u001b[0m \u001b[38;5;124;03m- treated_patients_mean_utility_shift\u001b[39;00m\n\u001b[1;32m    668\u001b[0m \u001b[38;5;124;03m\"\"\"\u001b[39;00m\n\u001b[1;32m    669\u001b[0m \u001b[38;5;66;03m# Find mean mRS and utility values in these results dictionary.\u001b[39;00m\n\u001b[1;32m    670\u001b[0m \u001b[38;5;66;03m# The results for all patients...\u001b[39;00m\n\u001b[0;32m--> 671\u001b[0m results_dict \u001b[38;5;241m=\u001b[39m \u001b[38;5;28;43mself\u001b[39;49m\u001b[38;5;241;43m.\u001b[39;49m\u001b[43m_create_mrs_utility_dict\u001b[49m\u001b[43m(\u001b[49m\n\u001b[1;32m    672\u001b[0m \u001b[43m    \u001b[49m\u001b[43mpost_stroke_probs\u001b[49m\u001b[43m,\u001b[49m\n\u001b[1;32m    673\u001b[0m \u001b[43m    \u001b[49m\u001b[43mnot_treated_probs\u001b[49m\u001b[43m,\u001b[49m\n\u001b[1;32m    674\u001b[0m \u001b[43m    \u001b[49m\u001b[43mno_effect_probs\u001b[49m\n\u001b[1;32m    675\u001b[0m \u001b[43m    \u001b[49m\u001b[43m)\u001b[49m\n\u001b[1;32m    676\u001b[0m \u001b[38;5;66;03m# ... and for only the patients who were treated:\u001b[39;00m\n\u001b[1;32m    677\u001b[0m results_treated_dict \u001b[38;5;241m=\u001b[39m \u001b[38;5;28mself\u001b[39m\u001b[38;5;241m.\u001b[39m_create_mrs_utility_dict(\n\u001b[1;32m    678\u001b[0m     post_stroke_probs[treatment_chosen_bool, :],\n\u001b[1;32m    679\u001b[0m     not_treated_probs,\n\u001b[1;32m    680\u001b[0m     no_effect_probs\n\u001b[1;32m    681\u001b[0m     )\n",
      "File \u001b[0;32m~/miniconda3/envs/muster/lib/python3.10/site-packages/stroke_outcome/continuous_outcome.py:737\u001b[0m, in \u001b[0;36mContinuous_outcome._create_mrs_utility_dict\u001b[0;34m(self, post_stroke_probs, not_treated_probs, no_effect_probs)\u001b[0m\n\u001b[1;32m    735\u001b[0m not_treated_noncum_dist \u001b[38;5;241m=\u001b[39m np\u001b[38;5;241m.\u001b[39mdiff(np\u001b[38;5;241m.\u001b[39mappend(\u001b[38;5;241m0.0\u001b[39m, not_treated_probs))\n\u001b[1;32m    736\u001b[0m no_effect_noncum_dist \u001b[38;5;241m=\u001b[39m np\u001b[38;5;241m.\u001b[39mdiff(np\u001b[38;5;241m.\u001b[39mappend(\u001b[38;5;241m0.0\u001b[39m, no_effect_probs))\n\u001b[0;32m--> 737\u001b[0m post_stroke_noncum_dist \u001b[38;5;241m=\u001b[39m np\u001b[38;5;241m.\u001b[39mdiff(\u001b[43mnp\u001b[49m\u001b[38;5;241;43m.\u001b[39;49m\u001b[43mconcatenate\u001b[49m\u001b[43m(\u001b[49m\n\u001b[1;32m    738\u001b[0m \u001b[43m    \u001b[49m\u001b[43m(\u001b[49m\u001b[43mnp\u001b[49m\u001b[38;5;241;43m.\u001b[39;49m\u001b[43mzeros\u001b[49m\u001b[43m(\u001b[49m\u001b[43m(\u001b[49m\u001b[43mpost_stroke_probs\u001b[49m\u001b[38;5;241;43m.\u001b[39;49m\u001b[43mshape\u001b[49m\u001b[43m[\u001b[49m\u001b[38;5;241;43m0\u001b[39;49m\u001b[43m]\u001b[49m\u001b[43m,\u001b[49m\u001b[43m \u001b[49m\u001b[38;5;241;43m1\u001b[39;49m\u001b[43m)\u001b[49m\u001b[43m)\u001b[49m\u001b[43m,\u001b[49m\u001b[43m \u001b[49m\u001b[43mpost_stroke_probs\u001b[49m\u001b[43m)\u001b[49m\u001b[43m,\u001b[49m\n\u001b[1;32m    739\u001b[0m \u001b[43m    \u001b[49m\u001b[43maxis\u001b[49m\u001b[38;5;241;43m=\u001b[39;49m\u001b[38;5;241;43m1\u001b[39;49m\u001b[43m)\u001b[49m)\n\u001b[1;32m    741\u001b[0m \u001b[38;5;66;03m# Convert mRS distributions to utility-weighted mRS:\u001b[39;00m\n\u001b[1;32m    742\u001b[0m not_treated_util \u001b[38;5;241m=\u001b[39m not_treated_noncum_dist \u001b[38;5;241m*\u001b[39m \u001b[38;5;28mself\u001b[39m\u001b[38;5;241m.\u001b[39mutility_weights\n",
      "\u001b[0;31mKeyboardInterrupt\u001b[0m: "
     ]
    }
   ],
   "source": [
    "# Process and save geographic data (only needed when hospital data changes)\n",
    "# geo = Geoprocessing(); geo.run()\n",
    "\n",
    "# Set up scenarios\n",
    "scenarios = {\n",
    "    'process_time_call_ambulance': [0, 60, 120, 180],\n",
    "    'process_time_ambulance_response': [15, 30, 45],\n",
    "    'process_ambulance_on_scene_duration': [20, 30, 40],\n",
    "    'process_msu_dispatch': [0, 15, 30, 45],\n",
    "    'process_msu_thrombolysis': [15, 30, 45],\n",
    "    'process_msu_on_scene_post_thrombolysis': [5, 15],\n",
    "    'process_time_arrival_to_needle': [30, 45],\n",
    "    'transfer_time_delay': [30, 60, 90],\n",
    "    'process_time_arrival_to_puncture': [60, 90, 120],\n",
    "    'process_time_msu_arrival_to_puncture': [30, 60, 90]    \n",
    "}\n",
    "\n",
    "# Set up scenario runner\n",
    "runner = Scenario_runner(scenarios, prefix='test_3')\n",
    "runner.run()"
   ]
  }
 ],
 "metadata": {
  "kernelspec": {
   "display_name": "muster",
   "language": "python",
   "name": "python3"
  },
  "language_info": {
   "codemirror_mode": {
    "name": "ipython",
    "version": 3
   },
   "file_extension": ".py",
   "mimetype": "text/x-python",
   "name": "python",
   "nbconvert_exporter": "python",
   "pygments_lexer": "ipython3",
   "version": "3.10.13"
  }
 },
 "nbformat": 4,
 "nbformat_minor": 4
}
