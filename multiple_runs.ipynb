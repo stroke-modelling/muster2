{
 "cells": [
  {
   "cell_type": "markdown",
   "metadata": {},
   "source": [
    "# MSU Multiple Scenarios"
   ]
  },
  {
   "cell_type": "code",
   "execution_count": 1,
   "metadata": {},
   "outputs": [],
   "source": [
    "import numpy as np\n",
    "import pandas as pd\n",
    "\n",
    "from classes.geography_processing import Geoprocessing\n",
    "from classes.scenario_runner import Scenario_runner"
   ]
  },
  {
   "cell_type": "code",
   "execution_count": 2,
   "metadata": {},
   "outputs": [
    {
     "name": "stdout",
     "output_type": "stream",
     "text": [
      "Running scenario 6/69984. Time remaining: 708.03 minutes\r"
     ]
    },
    {
     "ename": "KeyboardInterrupt",
     "evalue": "",
     "output_type": "error",
     "traceback": [
      "\u001b[0;31m---------------------------------------------------------------------------\u001b[0m",
      "\u001b[0;31mKeyboardInterrupt\u001b[0m                         Traceback (most recent call last)",
      "Cell \u001b[0;32mIn[2], line 23\u001b[0m\n\u001b[1;32m     21\u001b[0m \u001b[38;5;66;03m# Set up scenario runner\u001b[39;00m\n\u001b[1;32m     22\u001b[0m runner \u001b[38;5;241m=\u001b[39m Scenario_runner(scenarios, prefix\u001b[38;5;241m=\u001b[39m\u001b[38;5;124m'\u001b[39m\u001b[38;5;124mtest\u001b[39m\u001b[38;5;124m'\u001b[39m)\n\u001b[0;32m---> 23\u001b[0m \u001b[43mrunner\u001b[49m\u001b[38;5;241;43m.\u001b[39;49m\u001b[43mrun\u001b[49m\u001b[43m(\u001b[49m\u001b[43m)\u001b[49m\n",
      "File \u001b[0;32m~/Dropbox/01_Git_Current/3_Muster/muster_2_deterministic/classes/scenario_runner.py:57\u001b[0m, in \u001b[0;36mScenario_runner.run\u001b[0;34m(self)\u001b[0m\n\u001b[1;32m     53\u001b[0m \u001b[38;5;66;03m# Set up model\u001b[39;00m\n\u001b[1;32m     54\u001b[0m model \u001b[38;5;241m=\u001b[39m Model(\n\u001b[1;32m     55\u001b[0m     scenario\u001b[38;5;241m=\u001b[39mScenario(scenario_to_run),\n\u001b[1;32m     56\u001b[0m     geodata\u001b[38;5;241m=\u001b[39mpd\u001b[38;5;241m.\u001b[39mread_csv(\u001b[38;5;124m'\u001b[39m\u001b[38;5;124mprocessed_data/processed_data.csv\u001b[39m\u001b[38;5;124m'\u001b[39m))\n\u001b[0;32m---> 57\u001b[0m \u001b[43mmodel\u001b[49m\u001b[38;5;241;43m.\u001b[39;49m\u001b[43mrun\u001b[49m\u001b[43m(\u001b[49m\u001b[43m)\u001b[49m\n\u001b[1;32m     59\u001b[0m \u001b[38;5;66;03m# Store results\u001b[39;00m\n\u001b[1;32m     60\u001b[0m \u001b[38;5;28mself\u001b[39m\u001b[38;5;241m.\u001b[39mresults[index] \u001b[38;5;241m=\u001b[39m model\u001b[38;5;241m.\u001b[39msummary_results[\u001b[38;5;124m'\u001b[39m\u001b[38;5;124mmean\u001b[39m\u001b[38;5;124m'\u001b[39m]\n",
      "File \u001b[0;32m~/Dropbox/01_Git_Current/3_Muster/muster_2_deterministic/classes/model.py:47\u001b[0m, in \u001b[0;36mModel.run\u001b[0;34m(self)\u001b[0m\n\u001b[1;32m     45\u001b[0m \u001b[38;5;28mself\u001b[39m\u001b[38;5;241m.\u001b[39madd_drip_ship()\n\u001b[1;32m     46\u001b[0m \u001b[38;5;28mself\u001b[39m\u001b[38;5;241m.\u001b[39madd_mothership()\n\u001b[0;32m---> 47\u001b[0m \u001b[38;5;28;43mself\u001b[39;49m\u001b[38;5;241;43m.\u001b[39;49m\u001b[43madd_msu\u001b[49m\u001b[43m(\u001b[49m\u001b[43m)\u001b[49m\n\u001b[1;32m     49\u001b[0m \u001b[38;5;66;03m# Reindex on LSOA\u001b[39;00m\n\u001b[1;32m     50\u001b[0m \u001b[38;5;28mself\u001b[39m\u001b[38;5;241m.\u001b[39mfull_results\u001b[38;5;241m.\u001b[39mset_index(\u001b[38;5;124m'\u001b[39m\u001b[38;5;124mLSOA\u001b[39m\u001b[38;5;124m'\u001b[39m, inplace\u001b[38;5;241m=\u001b[39m\u001b[38;5;28;01mTrue\u001b[39;00m)\n",
      "File \u001b[0;32m~/Dropbox/01_Git_Current/3_Muster/muster_2_deterministic/classes/model.py:291\u001b[0m, in \u001b[0;36mModel.add_msu\u001b[0;34m(self)\u001b[0m\n\u001b[1;32m    288\u001b[0m outcome_inputs_df[\u001b[38;5;124m'\u001b[39m\u001b[38;5;124mivt_chosen_bool\u001b[39m\u001b[38;5;124m'\u001b[39m] \u001b[38;5;241m=\u001b[39m \u001b[38;5;241m1\u001b[39m\n\u001b[1;32m    289\u001b[0m continuous_outcome\u001b[38;5;241m.\u001b[39massign_patients_to_trial(outcome_inputs_df)\n\u001b[1;32m    290\u001b[0m patient_data_dict, outcomes_by_stroke_type, full_cohort_outcomes \u001b[38;5;241m=\u001b[39m (\n\u001b[0;32m--> 291\u001b[0m     \u001b[43mcontinuous_outcome\u001b[49m\u001b[38;5;241;43m.\u001b[39;49m\u001b[43mcalculate_outcomes\u001b[49m\u001b[43m(\u001b[49m\u001b[43m)\u001b[49m)\n\u001b[1;32m    292\u001b[0m \u001b[38;5;28mself\u001b[39m\u001b[38;5;241m.\u001b[39mfull_results[\u001b[38;5;124m'\u001b[39m\u001b[38;5;124mnlvo_msu_ivt_mrs_0-2\u001b[39m\u001b[38;5;124m'\u001b[39m] \u001b[38;5;241m=\u001b[39m \\\n\u001b[1;32m    293\u001b[0m     outcomes_by_stroke_type[\u001b[38;5;124m'\u001b[39m\u001b[38;5;124mnlvo_ivt_each_patient_mrs_dist_post_stroke\u001b[39m\u001b[38;5;124m'\u001b[39m][:,\u001b[38;5;241m2\u001b[39m]\n\u001b[1;32m    294\u001b[0m \u001b[38;5;28mself\u001b[39m\u001b[38;5;241m.\u001b[39mfull_results[\u001b[38;5;124m'\u001b[39m\u001b[38;5;124mnlvo_msu_ivt_mrs_shift\u001b[39m\u001b[38;5;124m'\u001b[39m] \u001b[38;5;241m=\u001b[39m \\\n\u001b[1;32m    295\u001b[0m     outcomes_by_stroke_type[\u001b[38;5;124m'\u001b[39m\u001b[38;5;124mnlvo_ivt_each_patient_mrs_shift\u001b[39m\u001b[38;5;124m'\u001b[39m]        \n",
      "File \u001b[0;32m~/miniconda3/envs/muster/lib/python3.10/site-packages/stroke_outcome/continuous_outcome.py:496\u001b[0m, in \u001b[0;36mContinuous_outcome.calculate_outcomes\u001b[0;34m(self)\u001b[0m\n\u001b[1;32m    485\u001b[0m \u001b[38;5;66;03m# ##### Calculations #####\u001b[39;00m\n\u001b[1;32m    486\u001b[0m \u001b[38;5;66;03m# Get treatment results\u001b[39;00m\n\u001b[1;32m    487\u001b[0m \u001b[38;5;66;03m# These post-stroke mRS distributions are the same for any\u001b[39;00m\n\u001b[1;32m    488\u001b[0m \u001b[38;5;66;03m# measure of change of outcome...\u001b[39;00m\n\u001b[1;32m    489\u001b[0m post_stroke_probs_lvo_ivt \u001b[38;5;241m=\u001b[39m (\n\u001b[1;32m    490\u001b[0m     ou\u001b[38;5;241m.\u001b[39mcalculate_post_stroke_mrs_dists_for_lvo_ivt(\n\u001b[1;32m    491\u001b[0m         \u001b[38;5;28mself\u001b[39m\u001b[38;5;241m.\u001b[39mmrs_distribution_probs,\n\u001b[1;32m    492\u001b[0m         \u001b[38;5;28mself\u001b[39m\u001b[38;5;241m.\u001b[39mmrs_distribution_logodds,\n\u001b[1;32m    493\u001b[0m         \u001b[38;5;28mself\u001b[39m\u001b[38;5;241m.\u001b[39mtrial,\n\u001b[1;32m    494\u001b[0m         \u001b[38;5;28mself\u001b[39m\u001b[38;5;241m.\u001b[39mivt_time_no_effect_mins))\n\u001b[1;32m    495\u001b[0m post_stroke_probs_lvo_mt \u001b[38;5;241m=\u001b[39m (\n\u001b[0;32m--> 496\u001b[0m     \u001b[43mou\u001b[49m\u001b[38;5;241;43m.\u001b[39;49m\u001b[43mcalculate_post_stroke_mrs_dists_for_lvo_mt\u001b[49m\u001b[43m(\u001b[49m\n\u001b[1;32m    497\u001b[0m \u001b[43m        \u001b[49m\u001b[38;5;28;43mself\u001b[39;49m\u001b[38;5;241;43m.\u001b[39;49m\u001b[43mmrs_distribution_probs\u001b[49m\u001b[43m,\u001b[49m\n\u001b[1;32m    498\u001b[0m \u001b[43m        \u001b[49m\u001b[38;5;28;43mself\u001b[39;49m\u001b[38;5;241;43m.\u001b[39;49m\u001b[43mmrs_distribution_logodds\u001b[49m\u001b[43m,\u001b[49m\n\u001b[1;32m    499\u001b[0m \u001b[43m        \u001b[49m\u001b[38;5;28;43mself\u001b[39;49m\u001b[38;5;241;43m.\u001b[39;49m\u001b[43mtrial\u001b[49m\u001b[43m,\u001b[49m\n\u001b[1;32m    500\u001b[0m \u001b[43m        \u001b[49m\u001b[38;5;28;43mself\u001b[39;49m\u001b[38;5;241;43m.\u001b[39;49m\u001b[43mmt_time_no_effect_mins\u001b[49m\u001b[43m)\u001b[49m)\n\u001b[1;32m    501\u001b[0m post_stroke_probs_nlvo_ivt \u001b[38;5;241m=\u001b[39m (\n\u001b[1;32m    502\u001b[0m     ou\u001b[38;5;241m.\u001b[39mcalculate_post_stroke_mrs_dists_for_nlvo_ivt(\n\u001b[1;32m    503\u001b[0m         \u001b[38;5;28mself\u001b[39m\u001b[38;5;241m.\u001b[39mmrs_distribution_probs,\n\u001b[1;32m    504\u001b[0m         \u001b[38;5;28mself\u001b[39m\u001b[38;5;241m.\u001b[39mmrs_distribution_logodds,\n\u001b[1;32m    505\u001b[0m         \u001b[38;5;28mself\u001b[39m\u001b[38;5;241m.\u001b[39mtrial,\n\u001b[1;32m    506\u001b[0m         \u001b[38;5;28mself\u001b[39m\u001b[38;5;241m.\u001b[39mivt_time_no_effect_mins))\n\u001b[1;32m    507\u001b[0m \u001b[38;5;66;03m# ... and these outcome dictionaries are specific to this\u001b[39;00m\n\u001b[1;32m    508\u001b[0m \u001b[38;5;66;03m# measure of change of outcome:\u001b[39;00m\n",
      "File \u001b[0;32m~/miniconda3/envs/muster/lib/python3.10/site-packages/stroke_outcome/outcome_utilities.py:428\u001b[0m, in \u001b[0;36mcalculate_post_stroke_mrs_dists_for_lvo_mt\u001b[0;34m(mrs_distribution_probs, mrs_distribution_logodds, trial, mt_time_no_effect_mins)\u001b[0m\n\u001b[1;32m    425\u001b[0m \u001b[38;5;66;03m# Create an x by 7 grid of mRS distributions,\u001b[39;00m\n\u001b[1;32m    426\u001b[0m \u001b[38;5;66;03m# one row of 7 mRS values for each of x patients.\u001b[39;00m\n\u001b[1;32m    427\u001b[0m mask_valid \u001b[38;5;241m=\u001b[39m (trial[\u001b[38;5;124m'\u001b[39m\u001b[38;5;124mstroke_type_code\u001b[39m\u001b[38;5;124m'\u001b[39m]\u001b[38;5;241m.\u001b[39mdata \u001b[38;5;241m==\u001b[39m \u001b[38;5;241m2\u001b[39m)\n\u001b[0;32m--> 428\u001b[0m post_stroke_probs \u001b[38;5;241m=\u001b[39m \u001b[43m_calculate_probs_at_treatment_time\u001b[49m\u001b[43m(\u001b[49m\n\u001b[1;32m    429\u001b[0m \u001b[43m    \u001b[49m\u001b[43mt0_logodds\u001b[49m\u001b[43m,\u001b[49m\n\u001b[1;32m    430\u001b[0m \u001b[43m    \u001b[49m\u001b[43mno_effect_logodds\u001b[49m\u001b[43m,\u001b[49m\n\u001b[1;32m    431\u001b[0m \u001b[43m    \u001b[49m\u001b[43mtrial\u001b[49m\u001b[43m[\u001b[49m\u001b[38;5;124;43m'\u001b[39;49m\u001b[38;5;124;43monset_to_puncture_mins\u001b[39;49m\u001b[38;5;124;43m'\u001b[39;49m\u001b[43m]\u001b[49m\u001b[38;5;241;43m.\u001b[39;49m\u001b[43mdata\u001b[49m\u001b[43m,\u001b[49m\n\u001b[1;32m    432\u001b[0m \u001b[43m    \u001b[49m\u001b[43mmt_time_no_effect_mins\u001b[49m\u001b[43m,\u001b[49m\n\u001b[1;32m    433\u001b[0m \u001b[43m    \u001b[49m\u001b[43mtrial\u001b[49m\u001b[43m[\u001b[49m\u001b[38;5;124;43m'\u001b[39;49m\u001b[38;5;124;43mmt_chosen_bool\u001b[39;49m\u001b[38;5;124;43m'\u001b[39;49m\u001b[43m]\u001b[49m\u001b[38;5;241;43m.\u001b[39;49m\u001b[43mdata\u001b[49m\u001b[43m,\u001b[49m\n\u001b[1;32m    434\u001b[0m \u001b[43m    \u001b[49m\u001b[43mtrial\u001b[49m\u001b[43m[\u001b[49m\u001b[38;5;124;43m'\u001b[39;49m\u001b[38;5;124;43mmt_no_effect_bool\u001b[39;49m\u001b[38;5;124;43m'\u001b[39;49m\u001b[43m]\u001b[49m\u001b[38;5;241;43m.\u001b[39;49m\u001b[43mdata\u001b[49m\u001b[43m,\u001b[49m\n\u001b[1;32m    435\u001b[0m \u001b[43m    \u001b[49m\u001b[43mmask_valid\u001b[49m\u001b[43m,\u001b[49m\n\u001b[1;32m    436\u001b[0m \u001b[43m    \u001b[49m\u001b[43mnot_treated_probs\u001b[49m\u001b[43m,\u001b[49m\n\u001b[1;32m    437\u001b[0m \u001b[43m    \u001b[49m\u001b[43mno_effect_probs\u001b[49m\n\u001b[1;32m    438\u001b[0m \u001b[43m    \u001b[49m\u001b[43m)\u001b[49m\n\u001b[1;32m    439\u001b[0m \u001b[38;5;28;01mreturn\u001b[39;00m post_stroke_probs\n",
      "File \u001b[0;32m~/miniconda3/envs/muster/lib/python3.10/site-packages/stroke_outcome/outcome_utilities.py:606\u001b[0m, in \u001b[0;36m_calculate_probs_at_treatment_time\u001b[0;34m(t0_logodds, no_effect_logodds, time_to_treatment_mins, time_no_effect_mins, mask_treated, mask_no_effect, mask_valid, not_treated_probs, no_effect_probs)\u001b[0m\n\u001b[1;32m    600\u001b[0m no_effect_logodds \u001b[38;5;241m=\u001b[39m \\\n\u001b[1;32m    601\u001b[0m     no_effect_logodds\u001b[38;5;241m.\u001b[39mreshape(\u001b[38;5;241m1\u001b[39m, \u001b[38;5;28mlen\u001b[39m(no_effect_logodds))\n\u001b[1;32m    602\u001b[0m t0_logodds \u001b[38;5;241m=\u001b[39m \\\n\u001b[1;32m    603\u001b[0m     t0_logodds\u001b[38;5;241m.\u001b[39mreshape(\u001b[38;5;241m1\u001b[39m, \u001b[38;5;28mlen\u001b[39m(t0_logodds))\n\u001b[1;32m    605\u001b[0m treated_probs, treated_odds, treated_logodds \u001b[38;5;241m=\u001b[39m \\\n\u001b[0;32m--> 606\u001b[0m     \u001b[43mcalculate_mrs_dist_at_treatment_time\u001b[49m\u001b[43m(\u001b[49m\n\u001b[1;32m    607\u001b[0m \u001b[43m        \u001b[49m\u001b[43mtime_to_treatment_mins\u001b[49m\u001b[43m,\u001b[49m\n\u001b[1;32m    608\u001b[0m \u001b[43m        \u001b[49m\u001b[43mtime_no_effect_mins\u001b[49m\u001b[43m,\u001b[49m\n\u001b[1;32m    609\u001b[0m \u001b[43m        \u001b[49m\u001b[43mt0_logodds\u001b[49m\u001b[43m,\u001b[49m\n\u001b[1;32m    610\u001b[0m \u001b[43m        \u001b[49m\u001b[43mno_effect_logodds\u001b[49m\n\u001b[1;32m    611\u001b[0m \u001b[43m    \u001b[49m\u001b[43m)\u001b[49m\n\u001b[1;32m    613\u001b[0m \u001b[38;5;66;03m# Overwrite these results for patients who do not receive\u001b[39;00m\n\u001b[1;32m    614\u001b[0m \u001b[38;5;66;03m# treatment or who are unaffected due to long treatment time.\u001b[39;00m\n\u001b[1;32m    615\u001b[0m treated_probs[mask_treated \u001b[38;5;241m==\u001b[39m \u001b[38;5;241m0\u001b[39m, :] \u001b[38;5;241m=\u001b[39m not_treated_probs\n",
      "File \u001b[0;32m~/miniconda3/envs/muster/lib/python3.10/site-packages/stroke_outcome/outcome_utilities.py:692\u001b[0m, in \u001b[0;36mcalculate_mrs_dist_at_treatment_time\u001b[0;34m(time_to_treatment_mins, time_no_effect_mins, t0_logodds, no_effect_logodds, final_value_is_mrs6)\u001b[0m\n\u001b[1;32m    688\u001b[0m treated_logodds \u001b[38;5;241m=\u001b[39m ((frac_to_no_effect \u001b[38;5;241m*\u001b[39m no_effect_logodds) \u001b[38;5;241m+\u001b[39m\n\u001b[1;32m    689\u001b[0m                    ((\u001b[38;5;241m1\u001b[39m \u001b[38;5;241m-\u001b[39m frac_to_no_effect) \u001b[38;5;241m*\u001b[39m t0_logodds))\n\u001b[1;32m    691\u001b[0m \u001b[38;5;66;03m# Convert to odds and probabilties\u001b[39;00m\n\u001b[0;32m--> 692\u001b[0m treated_odds \u001b[38;5;241m=\u001b[39m \u001b[43mnp\u001b[49m\u001b[38;5;241;43m.\u001b[39;49m\u001b[43mexp\u001b[49m\u001b[43m(\u001b[49m\u001b[43mtreated_logodds\u001b[49m\u001b[43m)\u001b[49m\n\u001b[1;32m    693\u001b[0m treated_probs \u001b[38;5;241m=\u001b[39m treated_odds \u001b[38;5;241m/\u001b[39m (\u001b[38;5;241m1\u001b[39m \u001b[38;5;241m+\u001b[39m treated_odds)\n\u001b[1;32m    695\u001b[0m \u001b[38;5;28;01mif\u001b[39;00m final_value_is_mrs6 \u001b[38;5;129;01mis\u001b[39;00m \u001b[38;5;28;01mTrue\u001b[39;00m:\n\u001b[1;32m    696\u001b[0m     \u001b[38;5;66;03m# Manually set all of the probabilities for mRS<=6 to be 1\u001b[39;00m\n\u001b[1;32m    697\u001b[0m     \u001b[38;5;66;03m# as the logodds calculation returns NaN.\u001b[39;00m\n",
      "\u001b[0;31mKeyboardInterrupt\u001b[0m: "
     ]
    }
   ],
   "source": [
    "# Process and save geographic data (only needed when hospital data changes)\n",
    "# geo = Geoprocessing(); geo.run()\n",
    "\n",
    "# Set up scenarios\n",
    "scenarios = {\n",
    "    'process_time_call_ambulance': [0, 60, 120, 180],\n",
    "    'process_time_ambulance_response': [0, 15, 30],\n",
    "    'process_ambulance_on_scene_duration': [20, 30],\n",
    "    'process_msu_dispatch': [0, 15, 30],\n",
    "    'process_msu_thrombolysis': [15, 30, 45],\n",
    "    'process_time_arrival_to_needle': [15, 30, 45],\n",
    "    'process_msu_on_scene_thrombolysis': [20, 30, 40],\n",
    "    'process_time_arrival_to_needle': [30, 45],\n",
    "    'transfer_time_delay': [30, 60 , 90],\n",
    "    'process_time_arrival_to_puncture': [45, 60],\n",
    "    'process_time_transfer_arrival_to_puncture': [30, 45, 60],\n",
    "    'process_time_msu_arrival_to_puncture': [30, 45, 60]\n",
    "    \n",
    "}\n",
    "\n",
    "# Set up scenario runner\n",
    "runner = Scenario_runner(scenarios, prefix='test')\n",
    "runner.run()\n"
   ]
  }
 ],
 "metadata": {
  "kernelspec": {
   "display_name": "Python 3 (ipykernel)",
   "language": "python",
   "name": "python3"
  },
  "language_info": {
   "codemirror_mode": {
    "name": "ipython",
    "version": 3
   },
   "file_extension": ".py",
   "mimetype": "text/x-python",
   "name": "python",
   "nbconvert_exporter": "python",
   "pygments_lexer": "ipython3",
   "version": "3.10.13"
  }
 },
 "nbformat": 4,
 "nbformat_minor": 4
}
