{
 "cells": [
  {
   "cell_type": "markdown",
   "metadata": {},
   "source": [
    "# MSU Multiple Scenarios"
   ]
  },
  {
   "cell_type": "code",
   "execution_count": 1,
   "metadata": {},
   "outputs": [],
   "source": [
    "import numpy as np\n",
    "import pandas as pd\n",
    "\n",
    "from classes.geography_processing import Geoprocessing\n",
    "from classes.scenario_runner import Scenario_runner\n",
    "\n",
    "# Hide all warnings\n",
    "import warnings\n",
    "warnings.filterwarnings(\"ignore\")"
   ]
  },
  {
   "cell_type": "code",
   "execution_count": 2,
   "metadata": {},
   "outputs": [
    {
     "ename": "SyntaxError",
     "evalue": "invalid syntax. Perhaps you forgot a comma? (1985586132.py, line 11)",
     "output_type": "error",
     "traceback": [
      "\u001b[0;36m  Cell \u001b[0;32mIn[2], line 11\u001b[0;36m\u001b[0m\n\u001b[0;31m    'process_msu_on_scene_post_thrombolysis': [15, 30]\u001b[0m\n\u001b[0m                                              ^\u001b[0m\n\u001b[0;31mSyntaxError\u001b[0m\u001b[0;31m:\u001b[0m invalid syntax. Perhaps you forgot a comma?\n"
     ]
    }
   ],
   "source": [
    "# Process and save geographic data (only needed when hospital data changes)\n",
    "# geo = Geoprocessing(); geo.run()\n",
    "\n",
    "# Set up scenarios\n",
    "scenarios = {\n",
    "    'process_time_call_ambulance': [0, 60, 120, 180],\n",
    "    'process_time_ambulance_response': [15, 30, 45],\n",
    "    'process_ambulance_on_scene_duration': [20, 30, 40],\n",
    "    'process_msu_dispatch': [0, 15, 30],\n",
    "    'process_msu_thrombolysis': [15, 30, 45],\n",
    "    'process_msu_on_scene_post_thrombolysis': [15, 30],\n",
    "    'process_time_arrival_to_needle': [30, 45],\n",
    "    'transfer_time_delay': [30, 60, 90],\n",
    "    'process_time_arrival_to_puncture': [30, 45, 60],\n",
    "    'process_time_transfer_arrival_to_puncture': [30, 45, 60],\n",
    "    'process_time_msu_arrival_to_puncture': [30, 45, 60]    \n",
    "}\n",
    "\n",
    "# Set up scenario runner\n",
    "runner = Scenario_runner(scenarios, prefix='test_2')\n",
    "runner.run()\n"
   ]
  }
 ],
 "metadata": {
  "kernelspec": {
   "display_name": "Python 3 (ipykernel)",
   "language": "python",
   "name": "python3"
  },
  "language_info": {
   "codemirror_mode": {
    "name": "ipython",
    "version": 3
   },
   "file_extension": ".py",
   "mimetype": "text/x-python",
   "name": "python",
   "nbconvert_exporter": "python",
   "pygments_lexer": "ipython3",
   "version": "3.10.13"
  }
 },
 "nbformat": 4,
 "nbformat_minor": 4
}
