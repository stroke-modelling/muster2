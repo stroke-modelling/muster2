{
 "cells": [
  {
   "cell_type": "markdown",
   "metadata": {},
   "source": [
    "# MSU Multiple Scenarios"
   ]
  },
  {
   "cell_type": "code",
   "execution_count": 1,
   "metadata": {},
   "outputs": [],
   "source": [
    "import numpy as np\n",
    "import pandas as pd\n",
    "\n",
    "from classes.geography_processing import Geoprocessing\n",
    "from classes.scenario_runner import Scenario_runner"
   ]
  },
  {
   "cell_type": "code",
   "execution_count": 2,
   "metadata": {},
   "outputs": [],
   "source": [
    "# Process and save geographic data (only needed when hospital data changes)\n",
    "# geo = Geoprocessing(); geo.run()\n",
    "\n",
    "# Set up scenarios\n",
    "scenarios = {\n",
    "    'process_time_call_ambulance': [15, 60, 180],\n",
    "    'transfer_time_delay': [30, 60, 120]\n",
    "}\n",
    "\n",
    "# Set up scenario runner\n",
    "runner = Scenario_runner(scenarios, prefix='test')\n",
    "runner.run()\n"
   ]
  }
 ],
 "metadata": {
  "kernelspec": {
   "display_name": "Python 3 (ipykernel)",
   "language": "python",
   "name": "python3"
  },
  "language_info": {
   "codemirror_mode": {
    "name": "ipython",
    "version": 3
   },
   "file_extension": ".py",
   "mimetype": "text/x-python",
   "name": "python",
   "nbconvert_exporter": "python",
   "pygments_lexer": "ipython3",
   "version": "3.10.13"
  }
 },
 "nbformat": 4,
 "nbformat_minor": 4
}
