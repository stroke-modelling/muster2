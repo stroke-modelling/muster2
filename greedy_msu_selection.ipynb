{
 "cells": [
  {
   "cell_type": "markdown",
   "metadata": {},
   "source": [
    "# Greedy MSU selection\n",
    "\n",
    "Choose MSU locations based on which improves overall utility most."
   ]
  },
  {
   "cell_type": "code",
   "execution_count": 1,
   "metadata": {},
   "outputs": [],
   "source": [
    "import numpy as np\n",
    "import pandas as pd\n",
    "\n",
    "from classes.geography_processing import Geoprocessing\n",
    "from classes.model import Model\n",
    "from classes.scenario import Scenario\n",
    "\n",
    "# Turn off all warnings\n",
    "import warnings\n",
    "warnings.filterwarnings(\"ignore\")\n"
   ]
  },
  {
   "cell_type": "code",
   "execution_count": 2,
   "metadata": {},
   "outputs": [],
   "source": [
    "# Proportion of treated patients that are LVO\n",
    "prop_lvo = 0.40\n",
    "\n",
    "# Maximum number of hospitals to select\n",
    "max_hospitals = 100"
   ]
  },
  {
   "cell_type": "code",
   "execution_count": 3,
   "metadata": {},
   "outputs": [],
   "source": [
    "# Set up scenario\n",
    "scenario = Scenario({\n",
    "    'name': 1,\n",
    "})\n",
    "\n",
    "# Set up geoprocessing module and load initial data (and  set Use_MSU column to zero\n",
    "geo = Geoprocessing(limit_to_england = True)\n",
    "geo.load_data()\n",
    "geo.hospitals['Use_MSU'] = 0\n",
    "\n",
    "# Travel processing for constant locations\n",
    "geo.find_nearest_ivt_unit()\n",
    "geo.find_nearest_mt_unit()\n",
    "geo.find_nearest_transfer_mt_unit()\n",
    "\n",
    "# Set up list of selected and unselected MSUs\n",
    "selected_MSUs = []\n",
    "used_hospitals_mask = geo.hospitals['Use_IVT'] == 1\n",
    "unelected_MSUs = list(geo.hospitals[used_hospitals_mask].index)"
   ]
  },
  {
   "cell_type": "markdown",
   "metadata": {},
   "source": [
    "## Benefit from each hospital as a MSU base\n"
   ]
  },
  {
   "cell_type": "code",
   "execution_count": 4,
   "metadata": {},
   "outputs": [],
   "source": [
    "hospitals = geo.hospitals.copy(deep=True)\n",
    "\n",
    "# Loop through all MSUs\n",
    "possible_msu_locations = list(geo.hospitals[used_hospitals_mask].index)\n",
    "advantages = []\n",
    "\n",
    "for msu in possible_msu_locations:\n",
    "    data_copy = hospitals.copy(deep=True)\n",
    "    data_copy.loc[msu, 'Use_MSU'] = 1\n",
    "    geo.hospitals = data_copy.copy()\n",
    "    geo.find_nearest_msu_unit()\n",
    "    geo.collate_data()\n",
    "    geo.save_processed_data()\n",
    "\n",
    "    model = Model(\n",
    "        scenario=scenario,\n",
    "        geodata=pd.read_csv('processed_data/processed_data.csv')\n",
    "    )\n",
    "\n",
    "    model.run()\n",
    "\n",
    "    # Get utilitites\n",
    "    lsoa_msu_utility = (\n",
    "        (model.full_results['lvo_msu_ivt_mt_utility'] * prop_lvo) + \n",
    "        (model.full_results['nlvo_msu_ivt_utility'] * (1 - prop_lvo)))\n",
    "\n",
    "    lsoa_drip_ship_utility = (\n",
    "        (model.full_results['lvo_drip_ship_ivt_mt_utility'] * prop_lvo) + \n",
    "        (model.full_results['nlvo_drip_ship_ivt_utility'] * (1 - prop_lvo)))\n",
    "\n",
    "    # Get the maximum of MSU and drip and ship\n",
    "    best_utility = np.maximum(lsoa_msu_utility, lsoa_drip_ship_utility)\n",
    "    best_utility\n",
    "\n",
    "    # Get the weighted average of lsoa_drip_ship_utility\n",
    "    average_utility_drip_ship = np.sum(\n",
    "        model.full_results['Admissions'] * lsoa_drip_ship_utility) / np.sum(model.full_results['Admissions'])\n",
    "\n",
    "    # Get the average utility weighted by model.full_results['Admissions']\n",
    "    average_utility = np.sum(model.full_results['Admissions'] * best_utility) / np.sum(model.full_results['Admissions'])\n",
    "\n",
    "    # Get the advantage of MSU over drip and ship\n",
    "    advantage = average_utility - average_utility_drip_ship\n",
    "\n",
    "    advantages.append(advantage)\n",
    "\n",
    "\n",
    "results = geo.hospitals.copy(deep=True)\n",
    "results = results[used_hospitals_mask]\n",
    "results['MSU advantage'] = advantages\n",
    "\n",
    "results.to_csv('output/msu_advantages_individual.csv')"
   ]
  },
  {
   "cell_type": "markdown",
   "metadata": {},
   "source": [
    "## Greedy selection of MSUs"
   ]
  },
  {
   "cell_type": "code",
   "execution_count": null,
   "metadata": {},
   "outputs": [],
   "source": [
    "hospitals = geo.hospitals.copy(deep=True)\n",
    "best_advantage = 0\n",
    "advantages = []\n",
    "\n",
    "# Loop through greedy selection process\n",
    "while (len(unelected_MSUs) > 0) & (len(selected_MSUs) < max_hospitals):\n",
    "\n",
    "    # Loop through all MSUs\n",
    "    for msu in unelected_MSUs:\n",
    "        data_copy = hospitals.copy(deep=True)\n",
    "        data_copy.loc[msu, 'Use_MSU'] = 1\n",
    "        geo.hospitals = data_copy.copy()\n",
    "        geo.find_nearest_msu_unit()\n",
    "        geo.collate_data()\n",
    "        geo.save_processed_data()\n",
    "\n",
    "        model = Model(\n",
    "            scenario=scenario,\n",
    "            geodata=pd.read_csv('processed_data/processed_data.csv')\n",
    "        )\n",
    "\n",
    "        model.run()\n",
    "        \n",
    "        # Get utilitites\n",
    "        lsoa_msu_utility = (\n",
    "            (model.full_results['lvo_msu_ivt_mt_utility'] * prop_lvo) + \n",
    "            (model.full_results['nlvo_msu_ivt_utility'] * (1 - prop_lvo)))\n",
    "\n",
    "        lsoa_drip_ship_utility = (\n",
    "            (model.full_results['lvo_drip_ship_ivt_mt_utility'] * prop_lvo) + \n",
    "            (model.full_results['nlvo_drip_ship_ivt_utility'] * (1 - prop_lvo)))\n",
    "\n",
    "        # Get the maximum of MSU and drip and ship\n",
    "        best_utility = np.maximum(lsoa_msu_utility, lsoa_drip_ship_utility)\n",
    "        best_utility\n",
    "\n",
    "        # Get the weighted average of lsoa_drip_ship_utility\n",
    "        average_utility_drip_ship = np.sum(\n",
    "            model.full_results['Admissions'] * lsoa_drip_ship_utility) / np.sum(model.full_results['Admissions'])\n",
    "\n",
    "        # Get the average utility weighted by model.full_results['Admissions']\n",
    "        average_utility = np.sum(model.full_results['Admissions'] * best_utility) / np.sum(model.full_results['Admissions'])\n",
    "\n",
    "        # Get the advantage of MSU over drip and ship\n",
    "        advantage = average_utility - average_utility_drip_ship\n",
    "        \n",
    "        if advantage > best_advantage:\n",
    "            best_advantage = advantage\n",
    "            best_MSU = msu\n",
    "\n",
    "    # Add the best MSU to the selected list\n",
    "    selected_MSUs.append(best_MSU)\n",
    "    unelected_MSUs.remove(best_MSU)\n",
    "    hospitals.loc[best_MSU, 'Use_MSU'] = 1\n",
    "    advantages.append(best_advantage)\n",
    "\n",
    "    # print the best MSU and utility\n",
    "    print(f'{best_MSU}, {best_advantage:0.3f}')"
   ]
  },
  {
   "cell_type": "code",
   "execution_count": null,
   "metadata": {},
   "outputs": [],
   "source": [
    "unelected_MSUs"
   ]
  },
  {
   "cell_type": "code",
   "execution_count": null,
   "metadata": {},
   "outputs": [],
   "source": [
    "greedy_results = geo.hospitals.loc[selected_MSUs]\n",
    "greedy_results['MSU advantage'] = advantages\n",
    "greedy_results.to_csv('output/msu_advantages_greedy.csv', index=False)\n",
    "greedy_results"
   ]
  }
 ],
 "metadata": {
  "kernelspec": {
   "display_name": "muster",
   "language": "python",
   "name": "python3"
  },
  "language_info": {
   "codemirror_mode": {
    "name": "ipython",
    "version": 3
   },
   "file_extension": ".py",
   "mimetype": "text/x-python",
   "name": "python",
   "nbconvert_exporter": "python",
   "pygments_lexer": "ipython3",
   "version": "3.10.13"
  }
 },
 "nbformat": 4,
 "nbformat_minor": 2
}
